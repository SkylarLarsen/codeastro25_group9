{
 "cells": [
  {
   "cell_type": "code",
   "execution_count": 35,
   "metadata": {},
   "outputs": [],
   "source": [
    "import core\n",
    "import evol_calc\n",
    "from astropy import units as u\n",
    "import matplotlib.pyplot as plt\n",
    "import numpy as np\n",
    "from astropy.constants import L_sun"
   ]
  },
  {
   "cell_type": "code",
   "execution_count": 2,
   "metadata": {},
   "outputs": [
    {
     "name": "stderr",
     "output_type": "stream",
     "text": [
      "WARNING: NoResultsWarning: Query returned no results. [astroquery.ipac.nexsci.nasa_exoplanet_archive.core]\n",
      "WARNING: column st_lum has a unit but is kept as a MaskedColumn as an attempt to convert it to Quantity failed with:\n",
      "UnitTypeError(\"MaskedQuantity instances require normal units, not <class 'astropy.units.function.logarithmic.DexUnit'> instances.\") [astropy.table.table]\n"
     ]
    },
    {
     "name": "stdout",
     "output_type": "stream",
     "text": [
      "Kepler 22 b not found! Try again bestie :/\n"
     ]
    },
    {
     "name": "stderr",
     "output_type": "stream",
     "text": [
      "WARNING: column st_lum has a unit but is kept as a MaskedColumn as an attempt to convert it to Quantity failed with:\n",
      "UnitTypeError(\"MaskedQuantity instances require normal units, not <class 'astropy.units.function.logarithmic.DexUnit'> instances.\") [astropy.table.table]\n",
      "WARNING: column st_lum has a unit but is kept as a MaskedColumn as an attempt to convert it to Quantity failed with:\n",
      "UnitTypeError(\"MaskedQuantity instances require normal units, not <class 'astropy.units.function.logarithmic.DexUnit'> instances.\") [astropy.table.table]\n",
      "WARNING: column st_lum has a unit but is kept as a MaskedColumn as an attempt to convert it to Quantity failed with:\n",
      "UnitTypeError(\"MaskedQuantity instances require normal units, not <class 'astropy.units.function.logarithmic.DexUnit'> instances.\") [astropy.table.table]\n"
     ]
    }
   ],
   "source": [
    "planets=core.get_current_parameters(['Kepler 22 b', 'Kepler-186 f','Kepler-452 b','51 Peg b'])"
   ]
  },
  {
   "cell_type": "code",
   "execution_count": 3,
   "metadata": {},
   "outputs": [
    {
     "data": {
      "text/html": [
       "<div><i>QTable length=3</i>\n",
       "<table id=\"table5172267616\" class=\"table-striped table-bordered table-condensed\">\n",
       "<thead><tr><th>pl_name</th><th>hostname</th><th>pl_rade</th><th>pl_bmasse</th><th>pl_ratror</th><th>st_teff</th><th>st_rad</th><th>st_mass</th><th>st_lum</th><th>st_age</th><th>pl_orbper</th><th>pl_orbsmax</th></tr></thead>\n",
       "<thead><tr><th></th><th></th><th>earthRad</th><th>earthMass</th><th></th><th>K</th><th>solRad</th><th>solMass</th><th>dex(solLum)</th><th>Gyr</th><th>d</th><th></th></tr></thead>\n",
       "<thead><tr><th>str12</th><th>str10</th><th>float64</th><th>float64</th><th>float64</th><th>float64</th><th>float64</th><th>float64</th><th>float64</th><th>float64</th><th>float64</th><th>float64</th></tr></thead>\n",
       "<tr><td>Kepler-186 f</td><td>Kepler-186</td><td>1.17</td><td>1.71</td><td>0.0205</td><td>3755.0</td><td>0.523</td><td>0.544</td><td>-1.26</td><td>4.0</td><td>129.9441</td><td>0.432</td></tr>\n",
       "<tr><td>Kepler-452 b</td><td>Kepler-452</td><td>1.63</td><td>3.29</td><td>0.0128</td><td>5757.0</td><td>1.11</td><td>1.037</td><td>0.08448</td><td>6.0</td><td>384.843</td><td>1.046</td></tr>\n",
       "<tr><td>51 Peg b</td><td>51 Peg</td><td>14.3</td><td>146.2018</td><td>nan</td><td>5758.0</td><td>1.17561</td><td>1.03</td><td>0.13631</td><td>10.0</td><td>4.230785</td><td>0.0527</td></tr>\n",
       "</table></div>"
      ],
      "text/plain": [
       "<QTable length=3>\n",
       "  pl_name     hostname  pl_rade  pl_bmasse ...  st_age pl_orbper pl_orbsmax\n",
       "                        earthRad earthMass ...   Gyr       d               \n",
       "   str12       str10    float64   float64  ... float64  float64   float64  \n",
       "------------ ---------- -------- --------- ... ------- --------- ----------\n",
       "Kepler-186 f Kepler-186     1.17      1.71 ...     4.0  129.9441      0.432\n",
       "Kepler-452 b Kepler-452     1.63      3.29 ...     6.0   384.843      1.046\n",
       "    51 Peg b     51 Peg     14.3  146.2018 ...    10.0  4.230785     0.0527"
      ]
     },
     "execution_count": 3,
     "metadata": {},
     "output_type": "execute_result"
    }
   ],
   "source": [
    "(planets)"
   ]
  },
  {
   "cell_type": "code",
   "execution_count": 16,
   "metadata": {},
   "outputs": [
    {
     "data": {
      "text/latex": [
       "$[3.42,~6.58,~292.4036] \\; \\mathrm{M_{\\oplus}}$"
      ],
      "text/plain": [
       "<MaskedQuantity [  3.42  ,   6.58  , 292.4036] earthMass>"
      ]
     },
     "execution_count": 16,
     "metadata": {},
     "output_type": "execute_result"
    }
   ],
   "source": [
    "(2*planets['pl_bmasse'])"
   ]
  },
  {
   "cell_type": "code",
   "execution_count": 32,
   "metadata": {},
   "outputs": [
    {
     "data": {
      "text/latex": [
       "$[0.054954087,~1.2147307,~1.3687055] \\; \\mathrm{W}$"
      ],
      "text/plain": [
       "<Quantity [0.05495409, 1.21473068, 1.36870546] W>"
      ]
     },
     "execution_count": 32,
     "metadata": {},
     "output_type": "execute_result"
    }
   ],
   "source": [
    "(10**planets['st_lum'])*L_sun.unit"
   ]
  },
  {
   "cell_type": "code",
   "execution_count": 34,
   "metadata": {},
   "outputs": [
    {
     "name": "stderr",
     "output_type": "stream",
     "text": [
      "WARNING: column st_lum has a unit but is kept as a MaskedColumn as an attempt to convert it to Quantity failed with:\n",
      "UnitTypeError(\"MaskedQuantity instances require normal units, not <class 'astropy.units.function.logarithmic.DexUnit'> instances.\") [astropy.table.table]\n"
     ]
    },
    {
     "data": {
      "text/plain": [
       "{'pl_name': np.str_('Kepler-22 b'),\n",
       " 'st_mass': <MaskedQuantity 0.857 solMass>,\n",
       " 'st_rad': <MaskedQuantity 0.869 solRad>,\n",
       " 'st_teff': <MaskedQuantity 5596. K>,\n",
       " 'st_lum': <Quantity 0.64529753 solLum>,\n",
       " 'st_age': <MaskedQuantity 7. Gyr>}"
      ]
     },
     "execution_count": 34,
     "metadata": {},
     "output_type": "execute_result"
    }
   ],
   "source": [
    "evol_calc.get_queried_star_from_user()"
   ]
  },
  {
   "cell_type": "code",
   "execution_count": null,
   "metadata": {},
   "outputs": [],
   "source": []
  }
 ],
 "metadata": {
  "kernelspec": {
   "display_name": "codeastro",
   "language": "python",
   "name": "python3"
  },
  "language_info": {
   "codemirror_mode": {
    "name": "ipython",
    "version": 3
   },
   "file_extension": ".py",
   "mimetype": "text/x-python",
   "name": "python",
   "nbconvert_exporter": "python",
   "pygments_lexer": "ipython3",
   "version": "3.10.18"
  }
 },
 "nbformat": 4,
 "nbformat_minor": 2
}
