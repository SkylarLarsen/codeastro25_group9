{
 "cells": [
  {
   "cell_type": "code",
   "execution_count": 1,
   "metadata": {},
   "outputs": [
    {
     "name": "stdout",
     "output_type": "stream",
     "text": [
      "Welcome to our package HZTrak! Your very own Habitable Zone Tracker for stellar evolution\n"
     ]
    },
    {
     "name": "stderr",
     "output_type": "stream",
     "text": [
      "WARNING: column st_lum has a unit but is kept as a MaskedColumn as an attempt to convert it to Quantity failed with:\n",
      "UnitTypeError(\"MaskedQuantity instances require normal units, not <class 'astropy.units.function.logarithmic.DexUnit'> instances.\") [astropy.table.table]\n"
     ]
    },
    {
     "ename": "UnitConversionError",
     "evalue": "Can only apply 'less' function to dimensionless quantities when other argument is not a quantity (unless the latter is all zero/infinity/nan).",
     "output_type": "error",
     "traceback": [
      "\u001b[0;31m---------------------------------------------------------------------------\u001b[0m",
      "\u001b[0;31mUnitConversionError\u001b[0m                       Traceback (most recent call last)",
      "Cell \u001b[0;32mIn[1], line 1\u001b[0m\n\u001b[0;32m----> 1\u001b[0m \u001b[38;5;28;01mimport\u001b[39;00m\u001b[38;5;250m \u001b[39m\u001b[38;5;21;01mevol_calc\u001b[39;00m\n\u001b[1;32m      3\u001b[0m \u001b[38;5;28;01mimport\u001b[39;00m\u001b[38;5;250m \u001b[39m\u001b[38;5;21;01mcore\u001b[39;00m\n",
      "File \u001b[0;32m~/Group9/codeastro25_group9/hztrak/evol_calc.py:190\u001b[0m\n\u001b[1;32m    187\u001b[0m star \u001b[38;5;241m=\u001b[39m get_queried_star_from_user()\n\u001b[1;32m    189\u001b[0m \u001b[38;5;66;03m# use 'results' for astropy table of the floats\u001b[39;00m\n\u001b[0;32m--> 190\u001b[0m results \u001b[38;5;241m=\u001b[39m \u001b[43mevolve_star\u001b[49m\u001b[43m(\u001b[49m\n\u001b[1;32m    191\u001b[0m \u001b[43mL_0\u001b[49m\u001b[38;5;241;43m=\u001b[39;49m\u001b[43mstar\u001b[49m\u001b[43m[\u001b[49m\u001b[38;5;124;43m'\u001b[39;49m\u001b[38;5;124;43mst_lum\u001b[39;49m\u001b[38;5;124;43m'\u001b[39;49m\u001b[43m]\u001b[49m\u001b[38;5;241;43m*\u001b[39;49m\u001b[43mu\u001b[49m\u001b[38;5;241;43m.\u001b[39;49m\u001b[43mLsun\u001b[49m\u001b[43m,\u001b[49m\n\u001b[1;32m    192\u001b[0m \u001b[43mR_0\u001b[49m\u001b[38;5;241;43m=\u001b[39;49m\u001b[43mstar\u001b[49m\u001b[43m[\u001b[49m\u001b[38;5;124;43m'\u001b[39;49m\u001b[38;5;124;43mst_rad\u001b[39;49m\u001b[38;5;124;43m'\u001b[39;49m\u001b[43m]\u001b[49m\u001b[38;5;241;43m*\u001b[39;49m\u001b[43mu\u001b[49m\u001b[38;5;241;43m.\u001b[39;49m\u001b[43mRsun\u001b[49m\u001b[43m,\u001b[49m\n\u001b[1;32m    193\u001b[0m \u001b[43mT_0\u001b[49m\u001b[38;5;241;43m=\u001b[39;49m\u001b[43mstar\u001b[49m\u001b[43m[\u001b[49m\u001b[38;5;124;43m'\u001b[39;49m\u001b[38;5;124;43mst_teff\u001b[39;49m\u001b[38;5;124;43m'\u001b[39;49m\u001b[43m]\u001b[49m\u001b[38;5;241;43m*\u001b[39;49m\u001b[43mu\u001b[49m\u001b[38;5;241;43m.\u001b[39;49m\u001b[43mK\u001b[49m\u001b[43m,\u001b[49m\n\u001b[1;32m    194\u001b[0m \u001b[43mmass\u001b[49m\u001b[38;5;241;43m=\u001b[39;49m\u001b[43mstar\u001b[49m\u001b[43m[\u001b[49m\u001b[38;5;124;43m'\u001b[39;49m\u001b[38;5;124;43mst_mass\u001b[39;49m\u001b[38;5;124;43m'\u001b[39;49m\u001b[43m]\u001b[49m\u001b[38;5;241;43m*\u001b[39;49m\u001b[43mu\u001b[49m\u001b[38;5;241;43m.\u001b[39;49m\u001b[43mMsun\u001b[49m\u001b[43m,\u001b[49m\n\u001b[1;32m    195\u001b[0m \u001b[43mt_f\u001b[49m\u001b[38;5;241;43m=\u001b[39;49m\u001b[43mstar\u001b[49m\u001b[43m[\u001b[49m\u001b[38;5;124;43m'\u001b[39;49m\u001b[38;5;124;43mst_age\u001b[39;49m\u001b[38;5;124;43m'\u001b[39;49m\u001b[43m]\u001b[49m\u001b[43m \u001b[49m\u001b[38;5;241;43m*\u001b[39;49m\u001b[43m \u001b[49m\u001b[38;5;241;43m1e9\u001b[39;49m\u001b[38;5;241;43m*\u001b[39;49m\u001b[43mu\u001b[49m\u001b[38;5;241;43m.\u001b[39;49m\u001b[43mGyr\u001b[49m\u001b[43m,\u001b[49m\u001b[43m  \u001b[49m\u001b[38;5;66;43;03m# Gyr → yr\u001b[39;49;00m\n\u001b[1;32m    196\u001b[0m \u001b[43msteps\u001b[49m\u001b[38;5;241;43m=\u001b[39;49m\u001b[38;5;241;43m10\u001b[39;49m\n\u001b[1;32m    197\u001b[0m \u001b[43m)\u001b[49m\n\u001b[1;32m    199\u001b[0m \u001b[38;5;28;01mfor\u001b[39;00m row \u001b[38;5;129;01min\u001b[39;00m results:\n\u001b[1;32m    200\u001b[0m     \u001b[38;5;28mprint\u001b[39m(\u001b[38;5;124mf\u001b[39m\u001b[38;5;124m\"\u001b[39m\u001b[38;5;124mt = \u001b[39m\u001b[38;5;132;01m{\u001b[39;00mrow[\u001b[38;5;124m'\u001b[39m\u001b[38;5;124mtime_yr\u001b[39m\u001b[38;5;124m'\u001b[39m]\u001b[38;5;241m/\u001b[39m\u001b[38;5;241m1e9\u001b[39m\u001b[38;5;132;01m:\u001b[39;00m\u001b[38;5;124m.1f\u001b[39m\u001b[38;5;132;01m}\u001b[39;00m\u001b[38;5;124m Gyr | L = \u001b[39m\u001b[38;5;132;01m{\u001b[39;00mrow[\u001b[38;5;124m'\u001b[39m\u001b[38;5;124mluminosity_Lsun\u001b[39m\u001b[38;5;124m'\u001b[39m]\u001b[38;5;132;01m:\u001b[39;00m\u001b[38;5;124m.3f\u001b[39m\u001b[38;5;132;01m}\u001b[39;00m\u001b[38;5;124m L☉ | \u001b[39m\u001b[38;5;124m\"\u001b[39m\n\u001b[1;32m    201\u001b[0m         \u001b[38;5;124mf\u001b[39m\u001b[38;5;124m\"\u001b[39m\u001b[38;5;124mR = \u001b[39m\u001b[38;5;132;01m{\u001b[39;00mrow[\u001b[38;5;124m'\u001b[39m\u001b[38;5;124mradius_Rsun\u001b[39m\u001b[38;5;124m'\u001b[39m]\u001b[38;5;132;01m:\u001b[39;00m\u001b[38;5;124m.3f\u001b[39m\u001b[38;5;132;01m}\u001b[39;00m\u001b[38;5;124m R☉ | T = \u001b[39m\u001b[38;5;132;01m{\u001b[39;00mrow[\u001b[38;5;124m'\u001b[39m\u001b[38;5;124mtemperature_K\u001b[39m\u001b[38;5;124m'\u001b[39m]\u001b[38;5;132;01m:\u001b[39;00m\u001b[38;5;124m.1f\u001b[39m\u001b[38;5;132;01m}\u001b[39;00m\u001b[38;5;124m K\u001b[39m\u001b[38;5;124m\"\u001b[39m)\n",
      "File \u001b[0;32m~/Group9/codeastro25_group9/hztrak/evol_calc.py:156\u001b[0m, in \u001b[0;36mevolve_star\u001b[0;34m(L_0, R_0, T_0, mass, t_f, steps)\u001b[0m\n\u001b[1;32m    138\u001b[0m \u001b[38;5;28;01mdef\u001b[39;00m\u001b[38;5;250m \u001b[39m\u001b[38;5;21mevolve_star\u001b[39m(L_0, R_0, T_0, mass, t_f\u001b[38;5;241m=\u001b[39m\u001b[38;5;241m1e10\u001b[39m, steps\u001b[38;5;241m=\u001b[39m\u001b[38;5;241m10\u001b[39m):\n\u001b[1;32m    139\u001b[0m \u001b[38;5;250m    \u001b[39m\u001b[38;5;124;03m\"\"\"\u001b[39;00m\n\u001b[1;32m    140\u001b[0m \u001b[38;5;124;03m    Evolve star \u001b[39;00m\n\u001b[1;32m    141\u001b[0m \n\u001b[0;32m   (...)\u001b[0m\n\u001b[1;32m    154\u001b[0m \n\u001b[1;32m    155\u001b[0m \u001b[38;5;124;03m    \"\"\"\u001b[39;00m\n\u001b[0;32m--> 156\u001b[0m     alpha, beta, gamma \u001b[38;5;241m=\u001b[39m \u001b[43malpha_beta_gamma\u001b[49m\u001b[43m(\u001b[49m\u001b[43mmass\u001b[49m\u001b[43m)\u001b[49m\n\u001b[1;32m    157\u001b[0m     times \u001b[38;5;241m=\u001b[39m np\u001b[38;5;241m.\u001b[39mlinspace(\u001b[38;5;241m0\u001b[39m, t_f, steps) \u001b[38;5;241m*\u001b[39m t_f  \u001b[38;5;66;03m# times has same unit as t_f\u001b[39;00m\n\u001b[1;32m    159\u001b[0m     L_vals \u001b[38;5;241m=\u001b[39m []\n",
      "File \u001b[0;32m~/Group9/codeastro25_group9/hztrak/evol_calc.py:58\u001b[0m, in \u001b[0;36malpha_beta_gamma\u001b[0;34m(mass)\u001b[0m\n\u001b[1;32m     46\u001b[0m \u001b[38;5;28;01mdef\u001b[39;00m\u001b[38;5;250m \u001b[39m\u001b[38;5;21malpha_beta_gamma\u001b[39m(mass):\n\u001b[1;32m     47\u001b[0m \u001b[38;5;250m    \u001b[39m\u001b[38;5;124;03m''' Alpha Beta Gamma Params\u001b[39;00m\n\u001b[1;32m     48\u001b[0m \n\u001b[1;32m     49\u001b[0m \u001b[38;5;124;03m    Calculates the parameters alpha, beta, and gamma to be used in evolution functions\u001b[39;00m\n\u001b[0;32m   (...)\u001b[0m\n\u001b[1;32m     56\u001b[0m \u001b[38;5;124;03m        int: alpha, beta, gamma\u001b[39;00m\n\u001b[1;32m     57\u001b[0m \u001b[38;5;124;03m    '''\u001b[39;00m\n\u001b[0;32m---> 58\u001b[0m     \u001b[38;5;28;01mif\u001b[39;00m \u001b[43mmass\u001b[49m\u001b[43m \u001b[49m\u001b[38;5;241;43m<\u001b[39;49m\u001b[43m \u001b[49m\u001b[38;5;241;43m0.43\u001b[39;49m:\n\u001b[1;32m     59\u001b[0m         alpha \u001b[38;5;241m=\u001b[39m \u001b[38;5;241m2.3\u001b[39m\n\u001b[1;32m     60\u001b[0m         beta \u001b[38;5;241m=\u001b[39m \u001b[38;5;241m0.1\u001b[39m\n",
      "File \u001b[0;32m~/miniconda3/envs/codeastro/lib/python3.10/site-packages/astropy/utils/masked/core.py:405\u001b[0m, in \u001b[0;36m_comparison_method.<locals>._compare\u001b[0;34m(self, other)\u001b[0m\n\u001b[1;32m    403\u001b[0m \u001b[38;5;28;01mdef\u001b[39;00m\u001b[38;5;250m \u001b[39m\u001b[38;5;21m_compare\u001b[39m(\u001b[38;5;28mself\u001b[39m, other):\n\u001b[1;32m    404\u001b[0m     other_data, other_mask \u001b[38;5;241m=\u001b[39m \u001b[38;5;28mself\u001b[39m\u001b[38;5;241m.\u001b[39m_get_data_and_mask(other)\n\u001b[0;32m--> 405\u001b[0m     result \u001b[38;5;241m=\u001b[39m \u001b[38;5;28;43mgetattr\u001b[39;49m\u001b[43m(\u001b[49m\u001b[38;5;28;43mself\u001b[39;49m\u001b[38;5;241;43m.\u001b[39;49m\u001b[43munmasked\u001b[49m\u001b[43m,\u001b[49m\u001b[43m \u001b[49m\u001b[43mop\u001b[49m\u001b[43m)\u001b[49m\u001b[43m(\u001b[49m\u001b[43mother_data\u001b[49m\u001b[43m)\u001b[49m\n\u001b[1;32m    406\u001b[0m     \u001b[38;5;28;01mif\u001b[39;00m result \u001b[38;5;129;01mis\u001b[39;00m \u001b[38;5;28mNotImplemented\u001b[39m:\n\u001b[1;32m    407\u001b[0m         \u001b[38;5;28;01mreturn\u001b[39;00m \u001b[38;5;28mNotImplemented\u001b[39m\n",
      "File \u001b[0;32m~/miniconda3/envs/codeastro/lib/python3.10/site-packages/astropy/units/quantity.py:696\u001b[0m, in \u001b[0;36mQuantity.__array_ufunc__\u001b[0;34m(self, function, method, *inputs, **kwargs)\u001b[0m\n\u001b[1;32m    694\u001b[0m     \u001b[38;5;28;01mreturn\u001b[39;00m \u001b[38;5;28mNotImplemented\u001b[39m\n\u001b[1;32m    695\u001b[0m \u001b[38;5;28;01melse\u001b[39;00m:\n\u001b[0;32m--> 696\u001b[0m     \u001b[38;5;28;01mraise\u001b[39;00m e\n",
      "File \u001b[0;32m~/miniconda3/envs/codeastro/lib/python3.10/site-packages/astropy/units/quantity.py:641\u001b[0m, in \u001b[0;36mQuantity.__array_ufunc__\u001b[0;34m(self, function, method, *inputs, **kwargs)\u001b[0m\n\u001b[1;32m    636\u001b[0m \u001b[38;5;66;03m# Determine required conversion functions -- to bring the unit of the\u001b[39;00m\n\u001b[1;32m    637\u001b[0m \u001b[38;5;66;03m# input to that expected (e.g., radian for np.sin), or to get\u001b[39;00m\n\u001b[1;32m    638\u001b[0m \u001b[38;5;66;03m# consistent units between two inputs (e.g., in np.add) --\u001b[39;00m\n\u001b[1;32m    639\u001b[0m \u001b[38;5;66;03m# and the unit of the result (or tuple of units for nout > 1).\u001b[39;00m\n\u001b[1;32m    640\u001b[0m \u001b[38;5;28;01mtry\u001b[39;00m:\n\u001b[0;32m--> 641\u001b[0m     converters, unit \u001b[38;5;241m=\u001b[39m \u001b[43mconverters_and_unit\u001b[49m\u001b[43m(\u001b[49m\u001b[43mfunction\u001b[49m\u001b[43m,\u001b[49m\u001b[43m \u001b[49m\u001b[43mmethod\u001b[49m\u001b[43m,\u001b[49m\u001b[43m \u001b[49m\u001b[38;5;241;43m*\u001b[39;49m\u001b[43minputs\u001b[49m\u001b[43m)\u001b[49m\n\u001b[1;32m    643\u001b[0m     out \u001b[38;5;241m=\u001b[39m kwargs\u001b[38;5;241m.\u001b[39mget(\u001b[38;5;124m\"\u001b[39m\u001b[38;5;124mout\u001b[39m\u001b[38;5;124m\"\u001b[39m, \u001b[38;5;28;01mNone\u001b[39;00m)\n\u001b[1;32m    644\u001b[0m     \u001b[38;5;66;03m# Avoid loop back by turning any Quantity output into array views.\u001b[39;00m\n",
      "File \u001b[0;32m~/miniconda3/envs/codeastro/lib/python3.10/site-packages/astropy/units/quantity_helper/converters.py:199\u001b[0m, in \u001b[0;36mconverters_and_unit\u001b[0;34m(function, method, *args)\u001b[0m\n\u001b[1;32m    197\u001b[0m             converters[i] \u001b[38;5;241m=\u001b[39m \u001b[38;5;28;01mNone\u001b[39;00m\n\u001b[1;32m    198\u001b[0m         \u001b[38;5;28;01melse\u001b[39;00m:\n\u001b[0;32m--> 199\u001b[0m             \u001b[38;5;28;01mraise\u001b[39;00m UnitConversionError(\n\u001b[1;32m    200\u001b[0m                 \u001b[38;5;124mf\u001b[39m\u001b[38;5;124m\"\u001b[39m\u001b[38;5;124mCan only apply \u001b[39m\u001b[38;5;124m'\u001b[39m\u001b[38;5;132;01m{\u001b[39;00mfunction\u001b[38;5;241m.\u001b[39m\u001b[38;5;18m__name__\u001b[39m\u001b[38;5;132;01m}\u001b[39;00m\u001b[38;5;124m'\u001b[39m\u001b[38;5;124m function to \u001b[39m\u001b[38;5;124m\"\u001b[39m\n\u001b[1;32m    201\u001b[0m                 \u001b[38;5;124m\"\u001b[39m\u001b[38;5;124mdimensionless quantities when other argument is not \u001b[39m\u001b[38;5;124m\"\u001b[39m\n\u001b[1;32m    202\u001b[0m                 \u001b[38;5;124m\"\u001b[39m\u001b[38;5;124ma quantity (unless the latter is all zero/infinity/nan).\u001b[39m\u001b[38;5;124m\"\u001b[39m\n\u001b[1;32m    203\u001b[0m             )\n\u001b[1;32m    204\u001b[0m \u001b[38;5;28;01mexcept\u001b[39;00m \u001b[38;5;167;01mTypeError\u001b[39;00m:\n\u001b[1;32m    205\u001b[0m     \u001b[38;5;66;03m# _can_have_arbitrary_unit failed: arg could not be compared\u001b[39;00m\n\u001b[1;32m    206\u001b[0m     \u001b[38;5;66;03m# with zero or checked to be finite. Then, ufunc will fail too.\u001b[39;00m\n\u001b[1;32m    207\u001b[0m     \u001b[38;5;28;01mraise\u001b[39;00m \u001b[38;5;167;01mTypeError\u001b[39;00m(\n\u001b[1;32m    208\u001b[0m         \u001b[38;5;124m\"\u001b[39m\u001b[38;5;124mUnsupported operand type(s) for ufunc \u001b[39m\u001b[38;5;132;01m{}\u001b[39;00m\u001b[38;5;124m: \u001b[39m\u001b[38;5;124m'\u001b[39m\u001b[38;5;132;01m{}\u001b[39;00m\u001b[38;5;124m'\u001b[39m\u001b[38;5;124m\"\u001b[39m\u001b[38;5;241m.\u001b[39mformat(\n\u001b[1;32m    209\u001b[0m             function\u001b[38;5;241m.\u001b[39m\u001b[38;5;18m__name__\u001b[39m,\n\u001b[1;32m    210\u001b[0m             \u001b[38;5;124m\"\u001b[39m\u001b[38;5;124m,\u001b[39m\u001b[38;5;124m\"\u001b[39m\u001b[38;5;241m.\u001b[39mjoin([arg\u001b[38;5;241m.\u001b[39m\u001b[38;5;18m__class__\u001b[39m\u001b[38;5;241m.\u001b[39m\u001b[38;5;18m__name__\u001b[39m \u001b[38;5;28;01mfor\u001b[39;00m arg \u001b[38;5;129;01min\u001b[39;00m args]),\n\u001b[1;32m    211\u001b[0m         )\n\u001b[1;32m    212\u001b[0m     )\n",
      "\u001b[0;31mUnitConversionError\u001b[0m: Can only apply 'less' function to dimensionless quantities when other argument is not a quantity (unless the latter is all zero/infinity/nan)."
     ]
    }
   ],
   "source": [
    "import evol_calc\n",
    "\n",
    "import core"
   ]
  },
  {
   "cell_type": "code",
   "execution_count": null,
   "metadata": {},
   "outputs": [
    {
     "name": "stderr",
     "output_type": "stream",
     "text": [
      "WARNING: column st_lum has a unit but is kept as a MaskedColumn as an attempt to convert it to Quantity failed with:\n",
      "UnitTypeError(\"MaskedQuantity instances require normal units, not <class 'astropy.units.function.logarithmic.DexUnit'> instances.\") [astropy.table.table]\n"
     ]
    },
    {
     "data": {
      "text/html": [
       "<div><i>QTable length=1</i>\n",
       "<table id=\"table4352783792\" class=\"table-striped table-bordered table-condensed\">\n",
       "<thead><tr><th>pl_name</th><th>hostname</th><th>pl_rade</th><th>pl_bmasse</th><th>pl_ratror</th><th>st_teff</th><th>st_rad</th><th>st_mass</th><th>st_lum</th><th>st_age</th><th>pl_orbper</th><th>pl_orbsmax</th></tr></thead>\n",
       "<thead><tr><th></th><th></th><th>earthRad</th><th>earthMass</th><th></th><th>K</th><th>solRad</th><th>solMass</th><th>dex(solLum)</th><th>Gyr</th><th>d</th><th></th></tr></thead>\n",
       "<thead><tr><th>str11</th><th>str9</th><th>float64</th><th>float64</th><th>float64</th><th>float64</th><th>float64</th><th>float64</th><th>float64</th><th>float64</th><th>float64</th><th>float64</th></tr></thead>\n",
       "<tr><td>Kepler-22 b</td><td>Kepler-22</td><td>2.1</td><td>9.1</td><td>0.020319</td><td>5596.0</td><td>0.869</td><td>0.857</td><td>-0.19024</td><td>7.0</td><td>289.863876</td><td>0.812</td></tr>\n",
       "</table></div>"
      ],
      "text/plain": [
       "<QTable length=1>\n",
       "  pl_name    hostname pl_rade  pl_bmasse ...  st_age pl_orbper  pl_orbsmax\n",
       "                      earthRad earthMass ...   Gyr       d                \n",
       "   str11       str9   float64   float64  ... float64  float64    float64  \n",
       "----------- --------- -------- --------- ... ------- ---------- ----------\n",
       "Kepler-22 b Kepler-22      2.1       9.1 ...     7.0 289.863876      0.812"
      ]
     },
     "execution_count": 2,
     "metadata": {},
     "output_type": "execute_result"
    }
   ],
   "source": [
    "core.get_current_parameters()"
   ]
  },
  {
   "cell_type": "code",
   "execution_count": null,
   "metadata": {},
   "outputs": [
    {
     "name": "stderr",
     "output_type": "stream",
     "text": [
      "WARNING: column st_lum has a unit but is kept as a MaskedColumn as an attempt to convert it to Quantity failed with:\n",
      "UnitTypeError(\"MaskedQuantity instances require normal units, not <class 'astropy.units.function.logarithmic.DexUnit'> instances.\") [astropy.table.table]\n"
     ]
    }
   ],
   "source": [
    "a = evol_calc.get_queried_star_from_user()"
   ]
  },
  {
   "cell_type": "code",
   "execution_count": null,
   "metadata": {},
   "outputs": [],
   "source": []
  },
  {
   "cell_type": "code",
   "execution_count": null,
   "metadata": {},
   "outputs": [],
   "source": [
    "alpha,beta,gamma=evol_calc.alpha_beta_gamma(a['st_mass'])"
   ]
  },
  {
   "cell_type": "code",
   "execution_count": null,
   "metadata": {},
   "outputs": [
    {
     "name": "stdout",
     "output_type": "stream",
     "text": [
      "0.6452975258917332\n"
     ]
    }
   ],
   "source": [
    "lum = evol_calc.luminosity_evolve(L_0=a['st_lum'], beta=beta, alpha=alpha, t_f=1e9, t=0)\n",
    "print(lum)\n"
   ]
  },
  {
   "cell_type": "code",
   "execution_count": null,
   "metadata": {},
   "outputs": [],
   "source": [
    "rad = evol_calc.radius_evolve(R_0 = a['st_rad'], gamma = gamma, t_f=1e9, t=0, alpha=alpha)"
   ]
  },
  {
   "cell_type": "code",
   "execution_count": null,
   "metadata": {},
   "outputs": [
    {
     "data": {
      "text/latex": [
       "$5596 \\; \\mathrm{\\frac{K}{K}}$"
      ],
      "text/plain": [
       "<MaskedQuantity 5596. K / K>"
      ]
     },
     "execution_count": 7,
     "metadata": {},
     "output_type": "execute_result"
    }
   ],
   "source": [
    "evol_calc.temp_evolve(T_0 = a['st_teff'], L_f = lum, L_0=a['st_lum'], R_f = rad, R_0=a['st_rad'])"
   ]
  },
  {
   "cell_type": "code",
   "execution_count": null,
   "metadata": {},
   "outputs": [
    {
     "data": {
      "text/html": [
       "<div><i>Table length=10</i>\n",
       "<table id=\"table5403099344\" class=\"table-striped table-bordered table-condensed\">\n",
       "<thead><tr><th>time_yr</th><th>luminosity_Lsun</th><th>radius_Rsun</th><th>temperature_K</th></tr></thead>\n",
       "<thead><tr><th>float64</th><th>float64</th><th>float64</th><th>float64</th></tr></thead>\n",
       "<tr><td>0.0</td><td>0.6452975258917332</td><td>0.869</td><td>5596.0</td></tr>\n",
       "<tr><td>1.111111111111111e+19</td><td>3.934141294874155e+35</td><td>1.324493217497333e+35</td><td>1.266587545051027e-05</td></tr>\n",
       "<tr><td>2.222222222222222e+19</td><td>6.294626071798648e+36</td><td>2.1191891479957328e+36</td><td>6.332937725255135e-06</td></tr>\n",
       "<tr><td>3.3333333333333336e+19</td><td>3.1866544488480658e+37</td><td>1.0728395061728398e+37</td><td>4.221958483503424e-06</td></tr>\n",
       "<tr><td>4.444444444444444e+19</td><td>1.0071401714877837e+38</td><td>3.3907026367931725e+37</td><td>3.1664688626275676e-06</td></tr>\n",
       "<tr><td>5.555555555555556e+19</td><td>2.4588383092963465e+38</td><td>8.278082609358329e+37</td><td>2.533175090102054e-06</td></tr>\n",
       "<tr><td>6.666666666666667e+19</td><td>5.098647118156905e+38</td><td>1.7165432098765436e+38</td><td>2.110979241751712e-06</td></tr>\n",
       "<tr><td>7.777777777777779e+19</td><td>9.445873248992847e+38</td><td>3.180108215211097e+38</td><td>1.8094107786443243e-06</td></tr>\n",
       "<tr><td>8.888888888888889e+19</td><td>1.611424274380454e+39</td><td>5.425124218869076e+38</td><td>1.5832344313137838e-06</td></tr>\n",
       "<tr><td>1e+20</td><td>2.581190103566933e+39</td><td>8.690000000000001e+38</td><td>1.4073194945011414e-06</td></tr>\n",
       "</table></div>"
      ],
      "text/plain": [
       "<Table length=10>\n",
       "       time_yr            luminosity_Lsun     ...     temperature_K     \n",
       "       float64                float64         ...        float64        \n",
       "---------------------- ---------------------- ... ----------------------\n",
       "                   0.0     0.6452975258917332 ...                 5596.0\n",
       " 1.111111111111111e+19  3.934141294874155e+35 ...  1.266587545051027e-05\n",
       " 2.222222222222222e+19  6.294626071798648e+36 ...  6.332937725255135e-06\n",
       "3.3333333333333336e+19 3.1866544488480658e+37 ...  4.221958483503424e-06\n",
       " 4.444444444444444e+19 1.0071401714877837e+38 ... 3.1664688626275676e-06\n",
       " 5.555555555555556e+19 2.4588383092963465e+38 ...  2.533175090102054e-06\n",
       " 6.666666666666667e+19  5.098647118156905e+38 ...  2.110979241751712e-06\n",
       " 7.777777777777779e+19  9.445873248992847e+38 ... 1.8094107786443243e-06\n",
       " 8.888888888888889e+19  1.611424274380454e+39 ... 1.5832344313137838e-06\n",
       "                 1e+20  2.581190103566933e+39 ... 1.4073194945011414e-06"
      ]
     },
     "execution_count": 8,
     "metadata": {},
     "output_type": "execute_result"
    }
   ],
   "source": [
    "evol_calc.evolve_star(L_0=a['st_lum'], R_0 = a['st_rad'], T_0 = a['st_teff'], mass = a['st_mass'])"
   ]
  },
  {
   "cell_type": "code",
   "execution_count": null,
   "metadata": {},
   "outputs": [],
   "source": []
  }
 ],
 "metadata": {
  "kernelspec": {
   "display_name": "codeastro",
   "language": "python",
   "name": "python3"
  },
  "language_info": {
   "codemirror_mode": {
    "name": "ipython",
    "version": 3
   },
   "file_extension": ".py",
   "mimetype": "text/x-python",
   "name": "python",
   "nbconvert_exporter": "python",
   "pygments_lexer": "ipython3",
   "version": "3.10.18"
  }
 },
 "nbformat": 4,
 "nbformat_minor": 2
}
