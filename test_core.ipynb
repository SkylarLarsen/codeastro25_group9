{
 "cells": [
  {
   "cell_type": "code",
   "execution_count": 29,
   "metadata": {},
   "outputs": [],
   "source": [
    "\n",
    "from astroquery.ipac.nexsci.nasa_exoplanet_archive import NasaExoplanetArchive\n",
    "from astroquery.simbad import Simbad\n",
    "import pandas as pd\n",
    "\n",
    "def get_current_parameters(planet_name=['Kepler-22 b']):\n",
    "  '''\n",
    "  Returns:\n",
    "  Dictionary of stellar parameters. Keys in dictionary include:\n",
    "  Planet Mass [Msun]\n",
    "  T_eff of star [K]\n",
    "  Luminosity of Star [Lsun]\n",
    "  Radius of star [Rsun]\n",
    "\n",
    "  Args:\n",
    "  name_planet: name of planet in nasa exoplanet archive (string)\n",
    "  name_star: name of star in Simbad (string)\n",
    "  '''\n",
    "  data=[]\n",
    "  for i in range(len(planet_name)):\n",
    "    tab = NasaExoplanetArchive.query_criteria(table=\"pscomppars\", where=f\"pl_name='{planet_name[i]}'\").to_pandas()\n",
    "    if len(tab)==0:\n",
    "      data.append({'pl_name':planet_name[i],           #planet name\n",
    "\n",
    "      })\n",
    "      continue\n",
    "    else:\n",
    "      planet_dict = tab.to_dict(orient='records')[0]\n",
    "      data.append({'pl_name':planet_dict['pl_name'],           #planet name\n",
    "          'hostname':planet_dict['hostname'],       #host star name\n",
    "          'pl_rade': planet_dict['pl_rade'],          #planet radius [earth radius]\n",
    "          'pl_masse': planet_dict['pl_masse'] ,        #planet mass [earth mass]\n",
    "          'pl_ratror': planet_dict['pl_ratror'],        #Ratio of Planet to Stellar Radius\n",
    "          'st_teff':planet_dict['st_teff'],          #stellar effective temperature [K]\n",
    "          'st_rad':planet_dict['st_rad'],           #stellar radius [Rsun]\n",
    "          'st_mass':planet_dict['st_mass'],          #stellar mass [Msun]\n",
    "          'st_lum':planet_dict['st_lum'],           #Stellar Luminosity [log10(Solar)]\n",
    "          'st_age' :planet_dict['st_age'],          #stellar age [Gyr]\n",
    "          'pl_orbper':planet_dict['pl_orbper'],        #Orbital period [days]\n",
    "          'pl_orbsmax':planet_dict['pl_orbsmax'],       #Orbit Semi-Major Axis [au]\n",
    "          })\n",
    "  df=pd.DataFrame(data)\n",
    "      \n",
    "  return df\n"
   ]
  },
  {
   "cell_type": "code",
   "execution_count": 30,
   "metadata": {},
   "outputs": [
    {
     "name": "stderr",
     "output_type": "stream",
     "text": [
      "WARNING: NoResultsWarning: Query returned no results. [astroquery.ipac.nexsci.nasa_exoplanet_archive.core]\n"
     ]
    }
   ],
   "source": [
    "planet_tab=get_current_parameters(planet_name=['Kepler-22 b','WASP-107b','HD 209458 b'])"
   ]
  },
  {
   "cell_type": "code",
   "execution_count": 31,
   "metadata": {},
   "outputs": [
    {
     "data": {
      "text/html": [
       "<div>\n",
       "<style scoped>\n",
       "    .dataframe tbody tr th:only-of-type {\n",
       "        vertical-align: middle;\n",
       "    }\n",
       "\n",
       "    .dataframe tbody tr th {\n",
       "        vertical-align: top;\n",
       "    }\n",
       "\n",
       "    .dataframe thead th {\n",
       "        text-align: right;\n",
       "    }\n",
       "</style>\n",
       "<table border=\"1\" class=\"dataframe\">\n",
       "  <thead>\n",
       "    <tr style=\"text-align: right;\">\n",
       "      <th></th>\n",
       "      <th>pl_name</th>\n",
       "      <th>hostname</th>\n",
       "      <th>pl_rade</th>\n",
       "      <th>pl_masse</th>\n",
       "      <th>pl_ratror</th>\n",
       "      <th>st_teff</th>\n",
       "      <th>st_rad</th>\n",
       "      <th>st_mass</th>\n",
       "      <th>st_lum</th>\n",
       "      <th>st_age</th>\n",
       "      <th>pl_orbper</th>\n",
       "      <th>pl_orbsmax</th>\n",
       "    </tr>\n",
       "  </thead>\n",
       "  <tbody>\n",
       "    <tr>\n",
       "      <th>0</th>\n",
       "      <td>Kepler-22 b</td>\n",
       "      <td>Kepler-22</td>\n",
       "      <td>2.10000</td>\n",
       "      <td>9.1000</td>\n",
       "      <td>0.020319</td>\n",
       "      <td>5596.0</td>\n",
       "      <td>0.869</td>\n",
       "      <td>0.857</td>\n",
       "      <td>-0.19024</td>\n",
       "      <td>7.0</td>\n",
       "      <td>289.863876</td>\n",
       "      <td>0.81200</td>\n",
       "    </tr>\n",
       "    <tr>\n",
       "      <th>1</th>\n",
       "      <td>WASP-107b</td>\n",
       "      <td>NaN</td>\n",
       "      <td>NaN</td>\n",
       "      <td>NaN</td>\n",
       "      <td>NaN</td>\n",
       "      <td>NaN</td>\n",
       "      <td>NaN</td>\n",
       "      <td>NaN</td>\n",
       "      <td>NaN</td>\n",
       "      <td>NaN</td>\n",
       "      <td>NaN</td>\n",
       "      <td>NaN</td>\n",
       "    </tr>\n",
       "    <tr>\n",
       "      <th>2</th>\n",
       "      <td>HD 209458 b</td>\n",
       "      <td>HD 209458</td>\n",
       "      <td>15.58051</td>\n",
       "      <td>232.0159</td>\n",
       "      <td>0.120860</td>\n",
       "      <td>6091.0</td>\n",
       "      <td>1.190</td>\n",
       "      <td>1.230</td>\n",
       "      <td>0.23086</td>\n",
       "      <td>3.1</td>\n",
       "      <td>3.524749</td>\n",
       "      <td>0.04707</td>\n",
       "    </tr>\n",
       "  </tbody>\n",
       "</table>\n",
       "</div>"
      ],
      "text/plain": [
       "       pl_name   hostname   pl_rade  pl_masse  pl_ratror  st_teff  st_rad  \\\n",
       "0  Kepler-22 b  Kepler-22   2.10000    9.1000   0.020319   5596.0   0.869   \n",
       "1    WASP-107b        NaN       NaN       NaN        NaN      NaN     NaN   \n",
       "2  HD 209458 b  HD 209458  15.58051  232.0159   0.120860   6091.0   1.190   \n",
       "\n",
       "   st_mass   st_lum  st_age   pl_orbper  pl_orbsmax  \n",
       "0    0.857 -0.19024     7.0  289.863876     0.81200  \n",
       "1      NaN      NaN     NaN         NaN         NaN  \n",
       "2    1.230  0.23086     3.1    3.524749     0.04707  "
      ]
     },
     "execution_count": 31,
     "metadata": {},
     "output_type": "execute_result"
    }
   ],
   "source": [
    "planet_tab"
   ]
  },
  {
   "cell_type": "code",
   "execution_count": null,
   "metadata": {},
   "outputs": [],
   "source": []
  }
 ],
 "metadata": {
  "kernelspec": {
   "display_name": "codeastro",
   "language": "python",
   "name": "python3"
  },
  "language_info": {
   "codemirror_mode": {
    "name": "ipython",
    "version": 3
   },
   "file_extension": ".py",
   "mimetype": "text/x-python",
   "name": "python",
   "nbconvert_exporter": "python",
   "pygments_lexer": "ipython3",
   "version": "3.10.18"
  }
 },
 "nbformat": 4,
 "nbformat_minor": 2
}
